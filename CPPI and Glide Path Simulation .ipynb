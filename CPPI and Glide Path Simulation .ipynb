{
 "cells": [
  {
   "cell_type": "markdown",
   "metadata": {},
   "source": [
    "# Implied Volatility Smile"
   ]
  },
  {
   "cell_type": "code",
   "execution_count": 1,
   "metadata": {},
   "outputs": [],
   "source": [
    "from scipy.stats import norm\n",
    "import numpy as np\n",
    "    \n",
    "def blsprice(Price, Strike, Rate, Time, Volatility):\n",
    "    sigma_sqrtT = Volatility * np.sqrt (Time)\n",
    "\n",
    "    d1 = 1 / sigma_sqrtT * (np.log(Price / Strike) + (Rate + Volatility**2 / 2) * Time)\n",
    "    d2 = d1 - sigma_sqrtT\n",
    "\n",
    "    phi1 = norm.cdf(d1)\n",
    "    phi2 = norm.cdf(d2)\n",
    "    disc = np.exp (-Rate * Time)\n",
    "    F    = Price * np.exp ((Rate) * Time)\n",
    "\n",
    "    Call = disc * (F * phi1 - Strike * phi2)\n",
    "    Put  = disc * (Strike * (1 - phi2) + F * (phi1 - 1))\n",
    "    return Call, Put"
   ]
  },
  {
   "cell_type": "code",
   "execution_count": 2,
   "metadata": {},
   "outputs": [],
   "source": [
    "import numpy as np\n",
    "\n",
    "strike_array = np.array([220, 230, 240, 250, 260, 270, 280, 290, 300, 310, 320, 330, 340])\n",
    "price_array = np.array([0.15, 0.25, 0.40, 0.70, 1.25, 2.32, 4.00, 6.70, 10.50, 16.00, 22.30, 29.70, 38.00])\n",
    "\n",
    "delta = 1e-8\n",
    "\n",
    "def f(sigma, strike, price):\n",
    "    return price - blsprice(309.73, strike, 0.0345, 22/365, sigma)[1]\n",
    "\n",
    "def fprime(sigma, strike):\n",
    "    return - ((blsprice(309.73, strike, 0.0345, 22/365, sigma + delta)[1]- blsprice(309.73, strike, 0.0345, 22/365, sigma)[1])/delta)\n"
   ]
  },
  {
   "cell_type": "code",
   "execution_count": 3,
   "metadata": {},
   "outputs": [
    {
     "name": "stdout",
     "output_type": "stream",
     "text": [
      "strike 220\n",
      "0.7707222309354976 -0.5194088559396027\n",
      "0.6639227292439749 -0.1156969060903559\n",
      "0.6216972332738728 -0.015829381917120383\n",
      "0.6137994840093013 -0.000506044914876963\n",
      "0.6135298413300316 -5.797246276084689e-07\n",
      "0.6135295317192476 -1.5563939026463913e-12\n",
      "0.6135295317184164 -1.50712775592865e-14\n",
      "strike 230\n",
      "0.7357580271104658 -0.7193455542477593\n",
      "0.6262122111435016 -0.14724010831762957\n",
      "0.5884003475161974 -0.016558038151668786\n",
      "0.5829311200721703 -0.00032949670938081654\n",
      "0.5828177840789847 -1.4069727344301342e-07\n",
      "0.582817735642524 -2.0117241206207837e-13\n",
      "0.5828177356424548 -2.3925306180672123e-14\n",
      "strike 240\n",
      "0.6952818636226894 -0.939155185519574\n",
      "0.585388448618009 -0.17300732155324783\n",
      "0.5531615516127886 -0.015141032926810682\n",
      "0.5497453209833666 -0.00016720219714050355\n",
      "0.5497067441215407 -2.1304300823477007e-08\n",
      "0.5497067392049616 1.2434497875801753e-14\n",
      "0.5497067392049645 -1.7763568394002505e-15\n",
      "strike 250\n",
      "0.6528893069120946 -1.119920860911962\n",
      "0.5503033179152287 -0.16906902871080742\n",
      "0.5278770220007829 -0.00886382197395108\n",
      "0.5265631872846981 -3.068917039150687e-05\n",
      "0.5265586066794642 -3.843443341366992e-10\n",
      "0.5265586066220963 3.552713678800501e-15\n",
      "strike 260\n",
      "0.6093878153050887 -1.2052291110160245\n",
      "0.5216757938572213 -0.1306517145139714\n",
      "0.5094098521331742 -0.0029556224832296696\n",
      "0.5091191629079154 -1.6877973398887747e-06\n",
      "0.5091189967210678 -4.989342272665453e-13\n",
      "0.5091189967210187 -5.595524044110789e-14\n",
      "strike 270\n",
      "0.5718329917495306 -1.1011229810856213\n",
      "0.5079803853892708 -0.06511168547607538\n",
      "0.5036756293945619 -0.0003451399667575572\n",
      "0.5036525658966846 -1.0012995321773133e-08\n",
      "0.5036525652275414 5.329070518200751e-15\n",
      "strike 280\n",
      "0.5378082304340808 -0.8297033498666\n",
      "0.498688626462724 -0.01935878324400253\n",
      "0.49772975979311795 -1.3122241479202046e-05\n",
      "0.49772910894785505 -5.806910507999419e-12\n",
      "0.49772910894756706 -4.973799150320701e-14\n",
      "strike 290\n",
      "0.517812511551264 -0.4279969051508523\n",
      "0.5009450480828476 -0.0020212429106845065\n",
      "0.5008646189746984 -4.884387916348487e-08\n",
      "0.5008646170310135 4.085620730620576e-14\n",
      "0.5008646170310151 -4.440892098500626e-14\n",
      "strike 300\n",
      "0.5101693820231007 -0.08734358408349507\n",
      "0.5071249501704976 -1.829061465841164e-05\n",
      "0.5071243123681981 -3.6060043839825084e-13\n",
      "0.5071243123681856 -5.329070518200751e-15\n",
      "strike 310\n",
      "0.5328941596481631 0.04169218773014549\n",
      "0.5342723412656093 2.2931589604979763e-07\n",
      "0.534272348845983 2.842170943040401e-14\n",
      "0.5342723488459838 0.0\n",
      "strike 320\n",
      "0.5560361785673673 -0.04467043561349726\n",
      "0.5545457526140283 -2.7231526367188508e-06\n",
      "0.5545456617451295 -3.552713678800501e-14\n",
      "0.5545456617451283 -7.105427357601002e-15\n",
      "strike 330\n",
      "0.5921854917227716 -0.2275002811200153\n",
      "0.5842151563937492 -0.0002677314680248344\n",
      "0.5842057543047049 -3.64408947461925e-10\n",
      "0.5842057542919077 2.1316282072803006e-14\n",
      "strike 340\n",
      "0.6384479646740655 -0.3789577176534138\n",
      "0.624269580873986 -0.0014265262235255705\n",
      "0.6242157995189246 -2.1451796783367172e-08\n",
      "0.6242157987101479 -3.552713678800501e-14\n"
     ]
    }
   ],
   "source": [
    "sigma_vectors = []\n",
    "for index in range(len(strike_array)):\n",
    "    strike = strike_array[index]\n",
    "    price = price_array[index]\n",
    "    print(\"strike\", strike)\n",
    "    i = 1\n",
    "    vectors = []\n",
    "    def conditions(v):\n",
    "        if len(v) >= 2:\n",
    "            return abs(v[-1] - v[-2]) >= 1e-9 and i <= 100\n",
    "        else:\n",
    "            return True\n",
    "    sigma0 = 1\n",
    "    while conditions(vectors):\n",
    "        sigma = sigma0 - (f(sigma0,strike,price)/fprime(sigma0,strike))\n",
    "        vectors.append(sigma)\n",
    "        i = i + 1\n",
    "        sigma0 = sigma\n",
    "        print(sigma, f(sigma, strike, price))\n",
    "    sigma_vectors.append(vectors[-1])"
   ]
  },
  {
   "cell_type": "code",
   "execution_count": 4,
   "metadata": {},
   "outputs": [
    {
     "data": {
      "image/png": "[encoded data removed]",
      "text/plain": [
       "<Figure size 432x288 with 1 Axes>"
      ]
     },
     "metadata": {
      "needs_background": "light"
     },
     "output_type": "display_data"
    }
   ],
   "source": [
    "import matplotlib.pyplot as plt\n",
    "\n",
    "plt.plot(strike_array, sigma_vectors)\n",
    "plt.show()"
   ]
  }
 ],
 "metadata": {
  "kernelspec": {
   "display_name": "Python 3",
   "language": "python",
   "name": "python3"
  },
  "language_info": {
   "codemirror_mode": {
    "name": "ipython",
    "version": 3
   },
   "file_extension": ".py",
   "mimetype": "text/x-python",
   "name": "python",
   "nbconvert_exporter": "python",
   "pygments_lexer": "ipython3",
   "version": "3.8.5"
  }
 },
 "nbformat": 4,
 "nbformat_minor": 5
}
